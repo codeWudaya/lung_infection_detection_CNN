{
 "cells": [
  {
   "cell_type": "markdown",
   "id": "9d5d7e43",
   "metadata": {
    "colab_type": "text",
    "id": "3DR-eO17geWu"
   },
   "source": [
    "# Convolutional Neural Network"
   ]
  },
  {
   "cell_type": "markdown",
   "id": "2fd493b2",
   "metadata": {
    "colab_type": "text",
    "id": "EMefrVPCg-60"
   },
   "source": [
    "### Importing the libraries"
   ]
  },
  {
   "cell_type": "code",
   "execution_count": 1,
   "id": "37f293d6",
   "metadata": {},
   "outputs": [],
   "source": [
    "import tensorflow as tf\n",
    "from keras.preprocessing.image import ImageDataGenerator"
   ]
  },
  {
   "cell_type": "code",
   "execution_count": 2,
   "id": "5f5158d0",
   "metadata": {
    "colab": {},
    "colab_type": "code",
    "id": "FIleuCAjoFD8"
   },
   "outputs": [
    {
     "data": {
      "text/plain": [
       "'2.11.0'"
      ]
     },
     "execution_count": 2,
     "metadata": {},
     "output_type": "execute_result"
    }
   ],
   "source": [
    "tf.__version__"
   ]
  },
  {
   "cell_type": "markdown",
   "id": "cbc2cc59",
   "metadata": {
    "colab_type": "text",
    "id": "oxQxCBWyoGPE"
   },
   "source": [
    "## Part 1 - Data Preprocessing"
   ]
  },
  {
   "cell_type": "markdown",
   "id": "c337cc78",
   "metadata": {
    "colab_type": "text",
    "id": "MvE-heJNo3GG"
   },
   "source": [
    "### Preprocessing the Training set"
   ]
  },
  {
   "cell_type": "code",
   "execution_count": 3,
   "id": "4ce2d838",
   "metadata": {},
   "outputs": [
    {
     "name": "stdout",
     "output_type": "stream",
     "text": [
      "Found 251 images belonging to 3 classes.\n"
     ]
    }
   ],
   "source": [
    "train_datagen = ImageDataGenerator(rescale = 1./255,#feature scaling to each and every value by diving all value 255 .\n",
    "                                   shear_range = 0.2,\n",
    "                                   zoom_range = 0.2,\n",
    "                                   horizontal_flip = True)\n",
    "training_set = train_datagen.flow_from_directory(r\"C:\\Users\\udaya\\OneDrive\\Desktop\\AI & ML Project\\lung_infection-CNN\\data\\train\",\n",
    "                                                 target_size = (64,64),\n",
    "                                                 batch_size = 32,\n",
    "                                                 class_mode = 'categorical')"
   ]
  },
  {
   "cell_type": "markdown",
   "id": "bb6593e2",
   "metadata": {
    "colab_type": "text",
    "id": "mrCMmGw9pHys"
   },
   "source": [
    "### Preprocessing the Test set"
   ]
  },
  {
   "cell_type": "code",
   "execution_count": 4,
   "id": "e6dbc1de",
   "metadata": {},
   "outputs": [
    {
     "name": "stdout",
     "output_type": "stream",
     "text": [
      "Found 66 images belonging to 3 classes.\n"
     ]
    }
   ],
   "source": [
    "test_datagen = ImageDataGenerator(rescale = 1./255)\n",
    "test_set = test_datagen.flow_from_directory(r\"C:\\Users\\udaya\\OneDrive\\Desktop\\AI & ML Project\\lung_infection-CNN\\data\\test\",\n",
    "                                            target_size = (64, 64),\n",
    "                                            batch_size = 32,\n",
    "                                            class_mode = 'categorical')"
   ]
  },
  {
   "cell_type": "markdown",
   "id": "4f6bfa07",
   "metadata": {
    "colab_type": "text",
    "id": "af8O4l90gk7B"
   },
   "source": [
    "## Part 2 - Building the CNN"
   ]
  },
  {
   "cell_type": "markdown",
   "id": "958dcff6",
   "metadata": {
    "colab_type": "text",
    "id": "ces1gXY2lmoX"
   },
   "source": [
    "### Initialising the CNN"
   ]
  },
  {
   "cell_type": "code",
   "execution_count": 5,
   "id": "174a2ed7",
   "metadata": {},
   "outputs": [],
   "source": [
    "cnn = tf.keras.models.Sequential()"
   ]
  },
  {
   "cell_type": "markdown",
   "id": "c94a0289",
   "metadata": {
    "colab_type": "text",
    "id": "u5YJj_XMl5LF"
   },
   "source": [
    "### Step 1 - Convolution"
   ]
  },
  {
   "cell_type": "code",
   "execution_count": 6,
   "id": "558bcffc",
   "metadata": {},
   "outputs": [],
   "source": [
    "cnn.add(tf.keras.layers.Conv2D(filters=32, kernel_size=3,activation='relu',input_shape=[64, 64, 3]))"
   ]
  },
  {
   "cell_type": "markdown",
   "id": "06e4dfba",
   "metadata": {
    "colab_type": "text",
    "id": "tf87FpvxmNOJ"
   },
   "source": [
    "### Step 2 - Pooling"
   ]
  },
  {
   "cell_type": "code",
   "execution_count": 7,
   "id": "f1f0e036",
   "metadata": {},
   "outputs": [],
   "source": [
    "cnn.add(tf.keras.layers.MaxPool2D(pool_size=2, strides=2))"
   ]
  },
  {
   "cell_type": "markdown",
   "id": "56875612",
   "metadata": {
    "colab_type": "text",
    "id": "xaTOgD8rm4mU"
   },
   "source": [
    "### Adding a second convolutional layer"
   ]
  },
  {
   "cell_type": "code",
   "execution_count": 8,
   "id": "b75bce15",
   "metadata": {},
   "outputs": [],
   "source": [
    "cnn.add(tf.keras.layers.Conv2D(filters=32, kernel_size=3, activation='relu'))\n",
    "cnn.add(tf.keras.layers.MaxPool2D(pool_size=2, strides=2))"
   ]
  },
  {
   "cell_type": "markdown",
   "id": "74d610ac",
   "metadata": {
    "colab_type": "text",
    "id": "tmiEuvTunKfk"
   },
   "source": [
    "### Step 3 - Flattening"
   ]
  },
  {
   "cell_type": "code",
   "execution_count": 9,
   "id": "9955bf2f",
   "metadata": {},
   "outputs": [],
   "source": [
    "cnn.add(tf.keras.layers.Flatten())"
   ]
  },
  {
   "cell_type": "markdown",
   "id": "d8cbc4fe",
   "metadata": {
    "colab_type": "text",
    "id": "dAoSECOm203v"
   },
   "source": [
    "### Step 4 - Full Connection"
   ]
  },
  {
   "cell_type": "code",
   "execution_count": 10,
   "id": "3e5cc856",
   "metadata": {},
   "outputs": [],
   "source": [
    "cnn.add(tf.keras.layers.Dense(units=128, activation='relu'))\n",
    "#rectifier activation "
   ]
  },
  {
   "cell_type": "markdown",
   "id": "3247d82c",
   "metadata": {
    "colab_type": "text",
    "id": "yTldFvbX28Na"
   },
   "source": [
    "### Step 5 - Output Layer"
   ]
  },
  {
   "cell_type": "code",
   "execution_count": 11,
   "id": "8e28d517",
   "metadata": {},
   "outputs": [],
   "source": [
    "cnn.add(tf.keras.layers.Dense(units=3, activation='sigmoid'))"
   ]
  },
  {
   "cell_type": "markdown",
   "id": "b5f30efe",
   "metadata": {
    "colab_type": "text",
    "id": "D6XkI90snSDl"
   },
   "source": [
    "## Part 3 - Training the CNN"
   ]
  },
  {
   "cell_type": "markdown",
   "id": "11e449fc",
   "metadata": {
    "colab_type": "text",
    "id": "vfrFQACEnc6i"
   },
   "source": [
    "### Compiling the CNN"
   ]
  },
  {
   "cell_type": "code",
   "execution_count": 12,
   "id": "ef615d8b",
   "metadata": {},
   "outputs": [],
   "source": [
    "cnn.compile(optimizer = 'adam', loss ='categorical_crossentropy', metrics = ['accuracy'])"
   ]
  },
  {
   "cell_type": "markdown",
   "id": "bc1ba77e",
   "metadata": {
    "colab_type": "text",
    "id": "ehS-v3MIpX2h"
   },
   "source": [
    "### Training the CNN on the Training set and evaluating it on the Test set"
   ]
  },
  {
   "cell_type": "code",
   "execution_count": 13,
   "id": "a391a025",
   "metadata": {},
   "outputs": [
    {
     "name": "stdout",
     "output_type": "stream",
     "text": [
      "Epoch 1/20\n",
      "8/8 [==============================] - 24s 3s/step - loss: 1.0683 - accuracy: 0.4542 - val_loss: 1.1665 - val_accuracy: 0.3030\n",
      "Epoch 2/20\n",
      "8/8 [==============================] - 24s 3s/step - loss: 0.8146 - accuracy: 0.7251 - val_loss: 1.7690 - val_accuracy: 0.0455\n",
      "Epoch 3/20\n",
      "8/8 [==============================] - 24s 3s/step - loss: 0.5485 - accuracy: 0.7888 - val_loss: 2.8303 - val_accuracy: 0.2424\n",
      "Epoch 4/20\n",
      "8/8 [==============================] - 24s 3s/step - loss: 0.4994 - accuracy: 0.7729 - val_loss: 3.0669 - val_accuracy: 0.2727\n",
      "Epoch 5/20\n",
      "8/8 [==============================] - 24s 3s/step - loss: 0.4764 - accuracy: 0.8247 - val_loss: 3.1106 - val_accuracy: 0.1818\n",
      "Epoch 6/20\n",
      "8/8 [==============================] - 24s 3s/step - loss: 0.3582 - accuracy: 0.8884 - val_loss: 3.5418 - val_accuracy: 0.3030\n",
      "Epoch 7/20\n",
      "8/8 [==============================] - 24s 3s/step - loss: 0.5211 - accuracy: 0.7530 - val_loss: 2.6913 - val_accuracy: 0.0606\n",
      "Epoch 8/20\n",
      "8/8 [==============================] - 24s 3s/step - loss: 0.4258 - accuracy: 0.8367 - val_loss: 2.7528 - val_accuracy: 0.1212\n",
      "Epoch 9/20\n",
      "8/8 [==============================] - 18s 2s/step - loss: 0.3576 - accuracy: 0.8645 - val_loss: 2.5323 - val_accuracy: 0.2273\n",
      "Epoch 10/20\n",
      "8/8 [==============================] - 23s 3s/step - loss: 0.3209 - accuracy: 0.8924 - val_loss: 3.4153 - val_accuracy: 0.0606\n",
      "Epoch 11/20\n",
      "8/8 [==============================] - 23s 3s/step - loss: 0.3499 - accuracy: 0.8446 - val_loss: 3.6166 - val_accuracy: 0.1364\n",
      "Epoch 12/20\n",
      "8/8 [==============================] - 24s 3s/step - loss: 0.3450 - accuracy: 0.8685 - val_loss: 3.2644 - val_accuracy: 0.1667\n",
      "Epoch 13/20\n",
      "8/8 [==============================] - 24s 3s/step - loss: 0.2716 - accuracy: 0.8884 - val_loss: 3.9491 - val_accuracy: 0.0303\n",
      "Epoch 14/20\n",
      "8/8 [==============================] - 24s 3s/step - loss: 0.2285 - accuracy: 0.9203 - val_loss: 4.5632 - val_accuracy: 0.1061\n",
      "Epoch 15/20\n",
      "8/8 [==============================] - 25s 3s/step - loss: 0.2368 - accuracy: 0.9124 - val_loss: 5.0059 - val_accuracy: 0.1970\n",
      "Epoch 16/20\n",
      "8/8 [==============================] - 24s 3s/step - loss: 0.2244 - accuracy: 0.9163 - val_loss: 4.7294 - val_accuracy: 0.0152\n",
      "Epoch 17/20\n",
      "8/8 [==============================] - 24s 3s/step - loss: 0.2157 - accuracy: 0.9163 - val_loss: 4.6685 - val_accuracy: 0.0303\n",
      "Epoch 18/20\n",
      "8/8 [==============================] - 24s 3s/step - loss: 0.2507 - accuracy: 0.9004 - val_loss: 4.3999 - val_accuracy: 0.0606\n",
      "Epoch 19/20\n",
      "8/8 [==============================] - 24s 3s/step - loss: 0.2734 - accuracy: 0.9084 - val_loss: 4.3111 - val_accuracy: 0.0303\n",
      "Epoch 20/20\n",
      "8/8 [==============================] - 24s 3s/step - loss: 0.2328 - accuracy: 0.9084 - val_loss: 4.2081 - val_accuracy: 0.1818\n"
     ]
    }
   ],
   "source": [
    "h=cnn.fit(x = training_set, validation_data = test_set, epochs = 20)"
   ]
  },
  {
   "cell_type": "markdown",
   "id": "7cd44316",
   "metadata": {
    "colab_type": "text",
    "id": "U3PZasO0006Z"
   },
   "source": [
    "# Part 4 - Making a single prediction"
   ]
  },
  {
   "cell_type": "code",
   "execution_count": 14,
   "id": "088a8b85",
   "metadata": {},
   "outputs": [],
   "source": [
    "cnn.save(r'C:\\Users\\udaya\\OneDrive\\Desktop\\DeepLearning_Udemy\\CNN\\cat_dog_CNN_model.h5')"
   ]
  },
  {
   "cell_type": "code",
   "execution_count": 30,
   "id": "e264d739",
   "metadata": {},
   "outputs": [
    {
     "name": "stdout",
     "output_type": "stream",
     "text": [
      "1/1 [==============================] - 0s 49ms/step\n"
     ]
    },
    {
     "data": {
      "text/plain": [
       "{'Healthy': 0, 'Type 1 disease': 1, 'Type 2 disease': 2}"
      ]
     },
     "execution_count": 30,
     "metadata": {},
     "output_type": "execute_result"
    }
   ],
   "source": [
    "import numpy as np\n",
    "from tensorflow.keras.preprocessing import image\n",
    "test_image = image.load_img(r\"C:\\Users\\udaya\\OneDrive\\Desktop\\AI & ML Project\\lung_infection-CNN\\data\\test\\healthy\\0117.jpeg\", target_size = (64, 64))\n",
    "test_image = image.img_to_array(test_image)\n",
    "test_image = np.expand_dims(test_image, axis = 0)\n",
    "result = cnn.predict(test_image)\n",
    "training_set.class_indices"
   ]
  },
  {
   "cell_type": "code",
   "execution_count": 29,
   "id": "3b94c059",
   "metadata": {},
   "outputs": [
    {
     "name": "stdout",
     "output_type": "stream",
     "text": [
      "0\n"
     ]
    }
   ],
   "source": [
    "# print(np.argmax(result[0]))"
   ]
  },
  {
   "cell_type": "code",
   "execution_count": 32,
   "id": "203c2962",
   "metadata": {},
   "outputs": [
    {
     "name": "stdout",
     "output_type": "stream",
     "text": [
      "Healthy\n"
     ]
    }
   ],
   "source": [
    "if np.argmax(result[0])==0:\n",
    "    print(\"Healthy\")\n",
    "elif np.argmax(result[0]==1):\n",
    "    print(\"Type 1 desease\")\n",
    "else:\n",
    "    print(\"Type 2 desease\")"
   ]
  },
  {
   "cell_type": "raw",
   "id": "855d81ef",
   "metadata": {},
   "source": [
    "Ploting graph and cm"
   ]
  },
  {
   "cell_type": "code",
   "execution_count": 34,
   "id": "218bc7e2",
   "metadata": {},
   "outputs": [],
   "source": [
    "import matplotlib.pyplot as plt\n",
    "import seaborn as sns"
   ]
  },
  {
   "cell_type": "code",
   "execution_count": 35,
   "id": "c36fdd4c",
   "metadata": {},
   "outputs": [
    {
     "data": {
      "image/png": "[encoded data removed]",
      "text/plain": [
       "<Figure size 640x480 with 1 Axes>"
      ]
     },
     "metadata": {},
     "output_type": "display_data"
    }
   ],
   "source": [
    "plt.plot(h.history['loss'],label='training loss')\n",
    "plt.plot(h.history['val_loss'],label='testing loss')\n",
    "plt.legend()\n",
    "plt.show()"
   ]
  },
  {
   "cell_type": "code",
   "execution_count": 36,
   "id": "91e9ba0e",
   "metadata": {},
   "outputs": [
    {
     "name": "stdout",
     "output_type": "stream",
     "text": [
      "3/3 [==============================] - 3s 719ms/step\n"
     ]
    }
   ],
   "source": [
    "from sklearn.metrics import confusion_matrix\n",
    "pred = np.argmax(cnn.predict(test_set),axis=1)"
   ]
  },
  {
   "cell_type": "code",
   "execution_count": null,
   "id": "ae40e539",
   "metadata": {},
   "outputs": [],
   "source": [
    "cm = confusion_matrix(np.argmax(test_set,axis=1),pred)\n",
    "print(cm)"
   ]
  },
  {
   "cell_type": "code",
   "execution_count": null,
   "id": "5846192f",
   "metadata": {},
   "outputs": [],
   "source": [
    "plt.figure(figsize=(10,10))\n",
    "sns.heatmap(cm,annot=True)\n",
    "plt.show()"
   ]
  }
 ],
 "metadata": {
  "kernelspec": {
   "display_name": "Python 3 (ipykernel)",
   "language": "python",
   "name": "python3"
  },
  "language_info": {
   "codemirror_mode": {
    "name": "ipython",
    "version": 3
   },
   "file_extension": ".py",
   "mimetype": "text/x-python",
   "name": "python",
   "nbconvert_exporter": "python",
   "pygments_lexer": "ipython3",
   "version": "3.9.13"
  }
 },
 "nbformat": 4,
 "nbformat_minor": 5
}
